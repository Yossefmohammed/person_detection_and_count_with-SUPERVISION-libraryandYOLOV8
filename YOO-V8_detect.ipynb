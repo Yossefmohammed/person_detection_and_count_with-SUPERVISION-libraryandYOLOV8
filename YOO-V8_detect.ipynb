{
 "cells": [
  {
   "cell_type": "code",
   "execution_count": 5,
   "id": "initial_id",
   "metadata": {
    "collapsed": true,
    "ExecuteTime": {
     "end_time": "2025-06-05T15:25:02.467447Z",
     "start_time": "2025-06-05T15:25:02.462307Z"
    }
   },
   "outputs": [],
   "source": [
    "import numpy as np\n",
    "import supervision as sv\n",
    "from ultralytics import YOLO\n",
    "import argparse"
   ]
  },
  {
   "cell_type": "code",
   "outputs": [
    {
     "name": "stderr",
     "output_type": "stream",
     "text": [
      "usage: yolov8 [-h] -i INPUT -o OUTPUT\n",
      "yolov8: error: the following arguments are required: -i/--input, -o/--output\n"
     ]
    },
    {
     "ename": "SystemExit",
     "evalue": "2",
     "output_type": "error",
     "traceback": [
      "An exception has occurred, use %tb to see the full traceback.\n",
      "\u001B[31mSystemExit\u001B[39m\u001B[31m:\u001B[39m 2\n"
     ]
    }
   ],
   "source": [
    "parser = argparse.ArgumentParser(prog='yolov8',description='This program help to detect and count the person in the polygon region',epilog='Text at the bittim of help')\n",
    "parser.add_argument('-i','--input',required=True)\n",
    "parser.add_argument('o','--output',required=True)\n",
    "args=parser.parse_args()"
   ],
   "metadata": {
    "collapsed": false,
    "ExecuteTime": {
     "end_time": "2025-06-05T15:25:02.537310Z",
     "start_time": "2025-06-05T15:25:02.467447Z"
    }
   },
   "id": "8ceec75308e8ba76",
   "execution_count": 6
  },
  {
   "cell_type": "code",
   "outputs": [],
   "source": [
    "class CountObject():\n",
    "    def __init__(self,input_video_path,output_video_path)->None:\n",
    "        self.model =YOLO('yolov8s.pt')\n",
    "        self.colors = sv.ColorPalette.default()\n",
    "        self.input_video_path = input_video_path\n",
    "        self.output_video_path=output_video_path\n",
    "        \n",
    "        self.polygons =  [\n",
    "            np.array([\n",
    "                [540,  985 ],\n",
    "                [1620, 985 ],\n",
    "                [2160, 1920],\n",
    "                [1620, 2855],\n",
    "                [540,  2855],\n",
    "                [0,    1920]\n",
    "            ], np.int32),\n",
    "            np.array([\n",
    "                [0,    1920],\n",
    "                [540,  985 ],\n",
    "                [0,    0   ]\n",
    "            ], np.int32),\n",
    "            np.array([\n",
    "                [1620, 985 ],\n",
    "                [2160, 1920],\n",
    "                [2160,    0]\n",
    "            ], np.int32),\n",
    "            np.array([\n",
    "                [540,  985 ],\n",
    "                [0,    0   ],\n",
    "                [2160, 0   ],\n",
    "                [1620, 985 ]\n",
    "            ], np.int32),\n",
    "            np.array([\n",
    "                [0,    1920],\n",
    "                [0,    3840],\n",
    "                [540,  2855]\n",
    "            ], np.int32),\n",
    "            np.array([\n",
    "                [2160, 1920],\n",
    "                [1620, 2855],\n",
    "                [2160, 3840]\n",
    "            ], np.int32),\n",
    "            np.array([\n",
    "                [1620, 2855],\n",
    "                [540,  2855],\n",
    "                [0,    3840],\n",
    "                [2160, 3840]\n",
    "            ], np.int32)\n",
    "        ]\n",
    "        self.video_info=sv.VideoInfo.from_video_path(input_video_path)\n",
    "        self.zones=[sv.PolygonZone(polygon=polygon,frame_resolution_wh=self.video_info.resolution_wh) for polygon in self.polygons]\n",
    "        self.zone_annotators=[sv.PolygonZoneAnnotator(zone=zone,color=self.colors.by_idx(index),thickness=6,text_thickness=8,text_scale=4)for index,zone in enumerate (self.zones)]\n",
    "        self.box_annotators=[sv.BoxAnnotator(color=self.colors.by_idx(index),thickness=4,text_thickness=4,text_scale=2)\n",
    "                             for index in range (len(self.polygons))]\n",
    "        def process_frame(self,frame:np.ndarray,i)->np.ndarray:\n",
    "            results= self.model(frame,imgsz=1280)[0]\n",
    "            detections= sv.Detections.from_yolov8(results)\n",
    "            detections=detections[(detections.class_id==0)&&(detections.confidence>0.5)]\n",
    "            for zone,zone_annotator,box_annotator in zip(self.zones,self.zone_annotators,self.box_annotators):\n",
    "                mask = zone.trigger(detections=detections)\n",
    "                detections_filtered =detections[mask]\n",
    "                frame =box_annotator.annotate(scene=frame,detections=detections_filtered)\n",
    "                frame=zone_annotator.annotate(scene=frame)\n",
    "            return frame\n",
    "        def process_video(self):\n",
    "            sv.process_video(source_path=self.input_video_path,target_path=self.output_video_path,callback=self.process_frame)\n",
    "        \n",
    "        "
   ],
   "metadata": {
    "collapsed": false,
    "ExecuteTime": {
     "start_time": "2025-06-05T15:25:02.537310Z"
    }
   },
   "id": "f73e1878004dcc52"
  },
  {
   "cell_type": "code",
   "outputs": [],
   "source": [
    "obj=CountObject(args.input,args.output)\n",
    "obj.process_video()"
   ],
   "metadata": {
    "collapsed": false,
    "ExecuteTime": {
     "start_time": "2025-06-05T15:25:02.537310Z"
    }
   },
   "id": "7c1e34b4fd0e44dc"
  }
 ],
 "metadata": {
  "kernelspec": {
   "display_name": "Python 3",
   "language": "python",
   "name": "python3"
  },
  "language_info": {
   "codemirror_mode": {
    "name": "ipython",
    "version": 2
   },
   "file_extension": ".py",
   "mimetype": "text/x-python",
   "name": "python",
   "nbconvert_exporter": "python",
   "pygments_lexer": "ipython2",
   "version": "2.7.6"
  }
 },
 "nbformat": 4,
 "nbformat_minor": 5
}
